{
 "cells": [
  {
   "cell_type": "markdown",
   "id": "9af110c4-ab0c-4e9e-b78c-54f59f01495b",
   "metadata": {},
   "source": [
    "QF Experimentation by YGG - implementation from Octopus here: https://forum.tecommons.org/t/strengths-and-weaknesses-of-conviction-voting-and-other-mechanisms/1278"
   ]
  },
  {
   "cell_type": "code",
   "execution_count": null,
   "id": "50e4ae5c-19d7-4c01-9077-a083f6907147",
   "metadata": {},
   "outputs": [
    {
     "data": {
      "text/plain": [
       "[('happysaucepublicgoods', 5.000000000000001),\n",
       " ('scoobysnacks', 10.000000000000002),\n",
       " ('TECProWrestlingLeague', 25.0)]"
      ]
     },
     "execution_count": null,
     "metadata": {},
     "output_type": "execute_result"
    }
   ],
   "source": [
    "import numpy as np\n",
    "from collections import defaultdict\n",
    "\n",
    "class System:\n",
    "    agents = []\n",
    "    \n",
    "    def __init__(self, agents):\n",
    "        self.agents = agents\n",
    "\n",
    "\n",
    "class DefaultDictWithGet(defaultdict):\n",
    "    \"\"\"\n",
    "    This is a funny little class that is a defaultdict that works with the `.get` function that dicts have. Made with help of chatgpt.\n",
    "    \"\"\"\n",
    "    def get(self, key, default=None):\n",
    "        # If the key is not present, return the default factory value\n",
    "        if key not in self:\n",
    "            return self.default_factory()\n",
    "        return super().get(key, default)\n",
    "\n",
    "\n",
    "class Agent:\n",
    "    votes = {}\n",
    "    name = ''\n",
    "    \n",
    "    def __init__(self, name, votes):\n",
    "        self.name = name\n",
    "        self.votes = DefaultDictWithGet(int, votes) # Int returns 0 by default\n",
    "    \n",
    "    def get(project: str):\n",
    "        return self.votes[project]\n",
    "\n",
    "agents = [Agent(name='Shawn', votes={'happysaucepublicgoods':5, 'TECProWrestlingLeague':4}), Agent(name='Kai', votes={'scoobysnacks':10}), Agent(name='Octopus', votes={'TECProWrestlingLeague':9})]\n",
    "\n",
    "system = System(agents)\n",
    "\n",
    "def quadratic_fund(project: str) -> float:\n",
    "    allocation = np.square(np.sum([np.sqrt(agent.votes.get(project)) for agent in system.agents]))\n",
    "    return allocation\n",
    "\n",
    "[(project, quadratic_fund(project)) for project in ['happysaucepublicgoods', 'scoobysnacks', 'TECProWrestlingLeague']]"
   ]
  },
  {
   "cell_type": "code",
   "execution_count": null,
   "id": "560a59dc-b7d0-43d5-ade8-2e54b5490f6f",
   "metadata": {},
   "outputs": [],
   "source": []
  }
 ],
 "metadata": {
  "kernelspec": {
   "display_name": "python3",
   "language": "python",
   "name": "python3"
  }
 },
 "nbformat": 4,
 "nbformat_minor": 5
}
