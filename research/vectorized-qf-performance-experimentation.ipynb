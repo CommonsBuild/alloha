{
 "cells": [
  {
   "cell_type": "markdown",
   "id": "9af110c4-ab0c-4e9e-b78c-54f59f01495b",
   "metadata": {},
   "source": [
    "QF Experimentation by YGG - implementation from Octopus here: https://forum.tecommons.org/t/strengths-and-weaknesses-of-conviction-voting-and-other-mechanisms/1278"
   ]
  },
  {
   "cell_type": "code",
   "execution_count": null,
   "id": "b55d6822-45fc-4cd9-8ca9-1d83ddf04ee4",
   "metadata": {},
   "outputs": [],
   "source": [
    "class System:\n",
    "    agents = []\n",
    "    \n",
    "    def __init__(self, agents):\n",
    "        self.agents = agents"
   ]
  },
  {
   "cell_type": "code",
   "execution_count": null,
   "id": "bb956d1e-84b6-4ed0-9151-65cf16350911",
   "metadata": {},
   "outputs": [],
   "source": [
    "agents = ['Shawn', 'Kai']"
   ]
  },
  {
   "cell_type": "code",
   "execution_count": null,
   "id": "a823a332-179c-48b3-8bd0-30c556064df7",
   "metadata": {},
   "outputs": [
    {
     "name": "stdout",
     "output_type": "stream",
     "text": [
      "Object `defaultdict` not found.\n"
     ]
    }
   ],
   "source": [
    "defaultdict?"
   ]
  },
  {
   "cell_type": "code",
   "execution_count": null,
   "id": "41fbd9eb-1ae1-4a8a-91ef-11cb3c067bb5",
   "metadata": {},
   "outputs": [],
   "source": [
    "from collections import defaultdict\n",
    "\n",
    "class DefaultDictWithGet(defaultdict):\n",
    "    \"\"\"\n",
    "    This is a funny little class that is a defaultdict that works with the `.get` function that dicts have. Made with help of chatgpt.\n",
    "    \"\"\"\n",
    "    def get(self, key, default=None):\n",
    "        # If the key is not present, return the default factory value\n",
    "        if key not in self:\n",
    "            return self.default_factory()\n",
    "        return super().get(key, default)"
   ]
  },
  {
   "cell_type": "code",
   "execution_count": null,
   "id": "4ebe1795-20bc-40a7-9663-459d4e66aaec",
   "metadata": {},
   "outputs": [],
   "source": [
    "import numpy as np"
   ]
  },
  {
   "cell_type": "code",
   "execution_count": null,
   "id": "92905d0d-0713-4276-ad1c-d8668b9eb12a",
   "metadata": {},
   "outputs": [],
   "source": [
    "class Agent:\n",
    "    votes = {}\n",
    "    name = ''\n",
    "    \n",
    "    def __init__(self, name, votes):\n",
    "        self.name = name\n",
    "        self.votes = DefaultDictWithGet(int, votes)\n",
    "    \n",
    "    def get(project: str):\n",
    "        return self.votes[project]"
   ]
  },
  {
   "cell_type": "code",
   "execution_count": null,
   "id": "4640e595-6361-4076-a3d3-e0aa4efda175",
   "metadata": {},
   "outputs": [],
   "source": [
    "from collections import defaultdict"
   ]
  },
  {
   "cell_type": "code",
   "execution_count": null,
   "id": "a3f24083-25d6-4950-9b14-6a361ef58bb8",
   "metadata": {},
   "outputs": [],
   "source": [
    "agents = [Agent(name='Shawn', votes={'happysaucepublicgoods':5, 'project#2':0}), Agent(name='Kai', votes={})]"
   ]
  },
  {
   "cell_type": "code",
   "execution_count": null,
   "id": "7d78aef6-06ca-48f3-a443-ede613d64b3f",
   "metadata": {},
   "outputs": [],
   "source": [
    "system = System(agents)"
   ]
  },
  {
   "cell_type": "code",
   "execution_count": null,
   "id": "e74f5bdb-341e-4146-9660-c74b7a0d9030",
   "metadata": {},
   "outputs": [],
   "source": [
    "project = 'happysaucepublicgoods'"
   ]
  },
  {
   "cell_type": "code",
   "execution_count": null,
   "id": "73764292-8968-4fdb-b9ee-6f2809426580",
   "metadata": {},
   "outputs": [
    {
     "data": {
      "text/plain": [
       "0"
      ]
     },
     "execution_count": null,
     "metadata": {},
     "output_type": "execute_result"
    }
   ],
   "source": [
    "agents[1].votes.get(project)"
   ]
  },
  {
   "cell_type": "code",
   "execution_count": null,
   "id": "57967e77-1fdf-48d2-b3b1-8569af14740d",
   "metadata": {},
   "outputs": [],
   "source": []
  },
  {
   "cell_type": "code",
   "execution_count": null,
   "id": "66e5a26b-7e2d-4240-986d-652c78462405",
   "metadata": {},
   "outputs": [
    {
     "data": {
      "text/plain": [
       "[2.23606797749979, 0.0]"
      ]
     },
     "execution_count": null,
     "metadata": {},
     "output_type": "execute_result"
    }
   ],
   "source": [
    "[np.sqrt(agent.votes.get(project)) for agent in system.agents]"
   ]
  },
  {
   "cell_type": "code",
   "execution_count": null,
   "id": "e06df6db-5a0f-43e1-93cf-c7ff4940a10c",
   "metadata": {},
   "outputs": [],
   "source": []
  },
  {
   "cell_type": "code",
   "execution_count": null,
   "id": "0795a6e6-e35c-4fd8-9130-380eb2d06edc",
   "metadata": {},
   "outputs": [
    {
     "data": {
      "text/plain": [
       "5.000000000000001"
      ]
     },
     "execution_count": null,
     "metadata": {},
     "output_type": "execute_result"
    }
   ],
   "source": [
    "np.square(np.sum([np.sqrt(agent.votes.get(project)) for agent in system.agents]))"
   ]
  },
  {
   "cell_type": "code",
   "execution_count": null,
   "id": "a4d9f531-8a7d-4d07-8815-ff08ada056c1",
   "metadata": {},
   "outputs": [],
   "source": [
    "a = {}"
   ]
  },
  {
   "cell_type": "code",
   "execution_count": null,
   "id": "5797b936-fe57-4dda-9f91-62c243e6b7de",
   "metadata": {},
   "outputs": [],
   "source": [
    "a.get(project)"
   ]
  },
  {
   "cell_type": "code",
   "execution_count": null,
   "id": "8d2b44f3-edb8-4ad8-bc91-8b8e7225d245",
   "metadata": {},
   "outputs": [],
   "source": [
    "def quadratic_fund(project: str) -> float:\n",
    "    allocation = np.square(np.sum([np.sqrt(agent.votes.get(project)) for agent in system.agents]))\n",
    "    return allocation"
   ]
  },
  {
   "cell_type": "code",
   "execution_count": null,
   "id": "30124aa8-69a1-4c16-997a-33f582606105",
   "metadata": {},
   "outputs": [],
   "source": [
    "project = 'happysaucepublicgoods'"
   ]
  },
  {
   "cell_type": "code",
   "execution_count": null,
   "id": "4560a1a9-11b0-454a-9c7e-a44b2a90e79c",
   "metadata": {},
   "outputs": [
    {
     "data": {
      "text/plain": [
       "5.000000000000001"
      ]
     },
     "execution_count": null,
     "metadata": {},
     "output_type": "execute_result"
    }
   ],
   "source": [
    "quadratic_fund(project)"
   ]
  },
  {
   "cell_type": "code",
   "execution_count": null,
   "id": "560a59dc-b7d0-43d5-ade8-2e54b5490f6f",
   "metadata": {},
   "outputs": [],
   "source": []
  }
 ],
 "metadata": {
  "kernelspec": {
   "display_name": "python3",
   "language": "python",
   "name": "python3"
  }
 },
 "nbformat": 4,
 "nbformat_minor": 5
}
